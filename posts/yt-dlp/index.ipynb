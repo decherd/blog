{
 "cells": [
  {
   "cell_type": "raw",
   "metadata": {},
   "source": [
    "---\n",
    "title: \"Replacing youtube-dl with yt-dlp\"\n",
    "author: \"Drew Echerd\"\n",
    "date: \"2022-11-27\"\n",
    "categories: [tools, python]\n",
    "image: \"github_image.png\"\n",
    "---"
   ]
  },
  {
   "cell_type": "markdown",
   "metadata": {},
   "source": []
  },
  {
   "cell_type": "markdown",
   "metadata": {},
   "source": [
    "[![](github_image.png){fig-alt=\"yt-dlp github image\"}](https://github.com/yt-dlp/yt-dlp)\n",
    "\n",
    "# How to use yt-dlp\n",
    "\n",
    "First of all, I just recently heard about yt-dlp. It was from an [Andrej Karpathy tweet](https://twitter.com/karpathy/status/1574474950416617472?s=21&t=W9fz01Kh2dR93hZvLP6FBQ) where he had downloaded all of [Lex Friedman's podcast episodes](https://www.youtube.com/playlist?list=PLrAXtmErZgOdP_8GztsuKi9nrraNbKKp4) and then transcribed them with a new AI model called [OpenAI Whisper](https://github.com/openai/whisper). He created [a site](https://karpathy.ai/lexicap/) that showed the tools he used and one of them was yt-dlp. \n",
    "\n",
    "So, I was thinking that this might be a helpful post for me to look back at to see how to use yt-dlp compared to youtube-dl, however, it seems that yt-dlp can be used as a direct drop-in replacement. \n",
    "\n",
    "The reason I am transitioning to yt-dlp is that I found that it is much faster than youtube-dl for some reason. I've not looked into the reasons why but I can download a video or audio file at my full internet speed. Previously, I was only able to download them at around 50KiB/s.\n",
    "\n",
    "I will post a few aliases that I use for downloading videos, audio, and playlists:\n",
    "```shell\n",
    "alias ytmusic='yt-dlp -o \"~/Downloads/Youtube-dl/%(title)s.%(ext)s\" -f m4a `pbpaste`'\n",
    "alias ytvideo='yt-dlp -o \"~/Downloads/Youtube-dl/%(title)s.%(ext)s\" -f \"bv[height<=720][ext=mp4]+ba[ext=m4a]/b[height<=720][ext=mp4]\" `pbpaste`'\n",
    "alias ytvideo-playlist='yt-dlp -o \"~/Downloads/Youtube-dl/%(playlist)s/%(playlist_index)s - %(title)s.%(ext)s\" -f \"bv[height<=720][ext=mp4]+ba[ext=m4a]/b[height<=720][ext=mp4]\" `pbpaste`'\n",
    "```\n",
    "\n",
    "As you can see above using yt-dlp is very simple:\n",
    "\n",
    "* Set the output location, file name, and extension using the -o flag. You can manually set these or use the [template arguments](https://github.com/yt-dlp/yt-dlp#output-template).\n",
    "* Set the desired format to download with the -f flag. There are [many options](https://github.com/yt-dlp/yt-dlp#format-selection) available to filter the best quality that you desire.\n",
    "* Finally, paste in the url at the end. As you can see here I am using [pbpaste](https://medium.com/@codenameyau/how-to-copy-and-paste-in-terminal-c88098b5840d) so that I can copy my url from my browser and then when I run my alias it will grab the current clipboard on its own.\n",
    "\n",
    "When using the playlist alias make sure to copy the link to the actual playlist. It will then create a folder in the location you set and start naming all the files and numbering them sequentially so that you can make sure to watch them in the order of the playlist.\n",
    "\n",
    "I hope this is helpful to future me at the very least. If you liked what see here please reach out to me on <i class=\"bi bi-twitter\"></i> [@drewecherd](https://twitter.com/drewecherd) and let me know. That would be super encouraging. Thanks!"
   ]
  },
  {
   "cell_type": "markdown",
   "metadata": {},
   "source": []
  }
 ],
 "metadata": {
  "kernelspec": {
   "display_name": "Python 3.10.8 ('fastai_env')",
   "language": "python",
   "name": "python3"
  },
  "language_info": {
   "codemirror_mode": {
    "name": "ipython",
    "version": 3
   },
   "file_extension": ".py",
   "mimetype": "text/x-python",
   "name": "python",
   "nbconvert_exporter": "python",
   "pygments_lexer": "ipython3",
   "version": "3.10.8"
  },
  "orig_nbformat": 4,
  "vscode": {
   "interpreter": {
    "hash": "b703da5db0e36dd8a2f74f6b924f3a04496113d715e83758ae2f5767f7718902"
   }
  }
 },
 "nbformat": 4,
 "nbformat_minor": 2
}
