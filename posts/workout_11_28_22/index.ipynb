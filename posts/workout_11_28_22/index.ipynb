{
 "cells": [
  {
   "cell_type": "raw",
   "metadata": {},
   "source": [
    "---\n",
    "title: \"Full-body 1hr workout\"\n",
    "author: \"Drew Echerd\"\n",
    "date: \"2022-11-28\"\n",
    "categories: [exercise]\n",
    "---"
   ]
  },
  {
   "cell_type": "markdown",
   "metadata": {},
   "source": [
    "# Here is the flow:\n",
    "\n",
    "* Biceps and legs\n",
    "    + Complete the following for a single side then repeat. Do this a total of two times decreasing weight and/or reps slightly if needed the second time through.\n",
    "        + Seated concentration curls x10 right arm\n",
    "        + Single seated curl to standing wood chopper x15 right arm\n",
    "        + Right foot on step, hold weight w/ both hands at chest, twist to the left as your raise your left knee. Keep right leg loaded. x30sec\n",
    "        + Right foot on step, weight in right hand, curtsy left foot over step to tap toe on each side. Keep right leg loaded. x30sec\n",
    "* Shoulders and legs\n",
    "    + Complete the following for a single side then repeat. Do this a total of two times decreasing weight and/or reps slightly if needed the second time through.\n",
    "        + Seated one-arm dumbbell press x10 right arm.\n",
    "        + Single seated one-arm dumbbell press, stand then sit. x15\n",
    "        + Lay on step with weight elevated in right hand, sit up while keeping weight elevated, lower and press weight and lay back down. x15\n",
    "        + Russian twists with weight on step x30sec\n",
    "        + Lay on step, hold weight with both hands at chest and do a bicycle with weight moving toward knee that is up. x30sec\n",
    "* Chest and legs\n",
    "    * Repeat the following twice.\n",
    "        * Lay on step and do dumbbell bench press x10\n",
    "        * Lay on step and do a wide dumbbell bench press followed by a narrow press with elbows next to your sides. x15\n",
    "        * Lay on step and raise legs to table top position. Do a fly while alternating extending one leg. x15\n",
    "        * Drop weights, reach above your head to hold the step. Extend and raise straight or slightly bent legs. x30sec\n",
    "        * Continue holding step and hold legs vertically. Press your heels to the ceiling while raising your hips off the step. x30sec\n",
    "* Back and legs\n",
    "    * Repeat the following twice\n",
    "        * With heavier weights do dumbbell dead lift x10\n",
    "        * Lower into dead lift position and do x10 rows\n",
    "        * With lighter weights in same dead lift position do reverse fly x10\n",
    "        * While using one dumbbell stood on end on the floor for support stand on your right leg and bend over to hold the weight. Extend your left leg straight back and point your toes. Tap your toe to the floor and raise your straight left leg to hip height. x30sec.\n",
    "        * Maintain the same position. Hold left leg at hip height and bend knee. Pulse your heel toward the ceiling while not dropping your thigh below hip height. x30sec\n"
   ]
  },
  {
   "cell_type": "markdown",
   "metadata": {},
   "source": []
  }
 ],
 "metadata": {
  "kernelspec": {
   "display_name": "Python 3.10.8 ('fastai_env')",
   "language": "python",
   "name": "python3"
  },
  "language_info": {
   "name": "python",
   "version": "3.10.8"
  },
  "orig_nbformat": 4,
  "vscode": {
   "interpreter": {
    "hash": "b703da5db0e36dd8a2f74f6b924f3a04496113d715e83758ae2f5767f7718902"
   }
  }
 },
 "nbformat": 4,
 "nbformat_minor": 2
}
